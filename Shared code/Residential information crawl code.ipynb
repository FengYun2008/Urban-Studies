{
 "cells": [
  {
   "cell_type": "code",
   "execution_count": 5,
   "metadata": {},
   "outputs": [],
   "source": [
    "from lxml import etree\n",
    "import requests\n",
    "from fake_useragent import UserAgent\n",
    "import random\n",
    "import time\n",
    "import csv"
   ]
  },
  {
   "cell_type": "markdown",
   "metadata": {},
   "source": [
    "## Create file"
   ]
  },
  {
   "cell_type": "code",
   "execution_count": 6,
   "metadata": {},
   "outputs": [
    {
     "data": {
      "text/plain": [
       "98"
      ]
     },
     "execution_count": 6,
     "metadata": {},
     "output_type": "execute_result"
    }
   ],
   "source": [
    "f = open('兰州小区房源信息.csv', 'w', encoding='utf-8-sig', newline=\"\")  \n",
    "csv_write = csv.DictWriter(f,fieldnames=['小区名称','价格','小区地址','物业类型','权属类别','竣工时间','产权年限','总户数','总建面积','容积率','绿化率','建筑类型','所属商圈','统一供暖','供水供电','停车位','物业费','停车费','车位管理费','物业公司','开发商'])\n",
    "csv_write.writeheader() "
   ]
  },
  {
   "cell_type": "markdown",
   "metadata": {},
   "source": [
    "## Set request header parameters: User-Agent, cookie, referer"
   ]
  },
  {
   "cell_type": "code",
   "execution_count": 7,
   "metadata": {},
   "outputs": [],
   "source": [
    "ua = UserAgent()\n",
    "headers = {\n",
    "    \"user-agent\": ua.random,\n",
    "    \"cookie\": \"sessid=C7103713-BE7D-9BEF-CFB5-6048A637E2DF; aQQ_ajkguid=263AC301-A02C-088D-AE4E-59D4B4D4726A; ctid=28; twe=2; id58=e87rkGCpsF6WHADop0A3Ag==; wmda_uuid=1231c40ad548840be4be3d965bc424de; wmda_new_uuid=1; wmda_session_id_6289197098934=1621733471115-664b82b6-8742-1591; wmda_visited_projects=%3B6289197098934; obtain_by=2; 58tj_uuid=8b1e1b8f-3890-47f7-ba3a-7fc4469ca8c1; new_session=1; init_refer=http%253A%252F%252Flocalhost%253A8888%252F; new_uv=1; _ga=GA1.2.1526033348.1621734712; _gid=GA1.2.876089249.1621734712; als=0; xxzl_cid=7be33aacf08c4431a744d39ca848819a; xzuid=717fc82c-ccb6-4394-9505-36f7da91c8c6\",\n",
    "    \"referer\": \"https://lanzhou.anjuke.com/community/p1/\",\n",
    "    }"
   ]
  },
  {
   "cell_type": "markdown",
   "metadata": {},
   "source": [
    "## Obtain an IP address randomly from the proxy IP address pool"
   ]
  },
  {
   "cell_type": "code",
   "execution_count": 8,
   "metadata": {},
   "outputs": [],
   "source": [
    "def get_proxy():\n",
    "    try:\n",
    "        PROXY_POOL_URL = 'http://localhost:5555/random'\n",
    "        response = requests.get(PROXY_POOL_URL)\n",
    "        if response.status_code == 200:\n",
    "            return response.text\n",
    "    except ConnectionError:\n",
    "        return None"
   ]
  },
  {
   "cell_type": "markdown",
   "metadata": {},
   "source": [
    "## Parse first-level page functions"
   ]
  },
  {
   "cell_type": "code",
   "execution_count": 9,
   "metadata": {},
   "outputs": [],
   "source": [
    "def get_link(url):\n",
    "    text = requests.get(url=url, headers=headers, proxies={\"http\": \"http://{}\".format(get_proxy())}).text\n",
    "    html = etree.HTML(text)\n",
    "    link = html.xpath('.//div[@class=\"list-cell\"]/a/@href')\n",
    "    price = html.xpath('.//div[@class=\"list-cell\"]/a/div[3]/div/strong/text()')\n",
    "    #print(link)\n",
    "    #print(price)\n",
    "    return zip(link, price)"
   ]
  },
  {
   "cell_type": "code",
   "execution_count": 10,
   "metadata": {},
   "outputs": [],
   "source": [
    "csv_write = csv.DictWriter(f,fieldnames=['小区名称','价格','小区地址','物业类型','权属类别','竣工时间','产权年限','总户数','总建面积','容积率','绿化率','建筑类型','所属商圈','统一供暖','供水供电','停车位','物业费','停车费','车位管理费','物业公司','开发商'])"
   ]
  },
  {
   "cell_type": "markdown",
   "metadata": {},
   "source": [
    "## Parse secondary page functions"
   ]
  },
  {
   "cell_type": "code",
   "execution_count": 11,
   "metadata": {},
   "outputs": [],
   "source": [
    "def parse_message(url, price):\n",
    "    dict_result = {'小区名称': '-','价格': '-','小区地址': '-','物业类型': '-',\n",
    "                   '权属类别': '-','竣工时间': '-','产权年限': '-','总户数': '-',\n",
    "                   '总建面积':'-','容积率': '-','绿化率':'-','建筑类型': '-',\n",
    "                   '所属商圈': '-','统一供暖': '-','供水供电': '-','停车位': '-',\n",
    "                   '物业费':'-','停车费': '-','车位管理费': '-','物业公司': '-','开发商': '-'}\n",
    "                    \n",
    "    text = requests.get(url=url, headers=headers,proxies={\"http\": \"http://{}\".format(get_proxy())}).text\n",
    "    html = etree.HTML(text)\n",
    "    dict_result['小区名称'] = html.xpath('.//div[@class=\"comm-title\"]/h1/text()')\n",
    "    dict_result['小区地址'] = html.xpath('.//div[@class=\"comm-title\"]/h1/span/text()')\n",
    "    dict_result['物业类型'] = html.xpath('.//div[@class=\"comm-basic-mod  \"]/div[2]/dl/dd[1]/text()|.//div[@class=\"comm-basic-mod has-pano-box \"]/div[2]/dl/dd[1]/text()')\n",
    "    dict_result['权属类别'] = html.xpath('.//div[@class=\"comm-basic-mod  \"]/div[2]/dl/dd[2]/text()|.//div[@class=\"comm-basic-mod has-pano-box \"]/div[2]/dl/dd[2]/text()')                    \n",
    "    dict_result['竣工时间'] = html.xpath('.//div[@class=\"comm-basic-mod  \"]/div[2]/dl/dd[3]/text()|.//div[@class=\"comm-basic-mod has-pano-box \"]/div[2]/dl/dd[3]/text()')\n",
    "    dict_result['产权年限'] = html.xpath('.//div[@class=\"comm-basic-mod  \"]/div[2]/dl/dd[4]/text()|.//div[@class=\"comm-basic-mod has-pano-box \"]/div[2]/dl/dd[4]/text()')\n",
    "    dict_result['总户数'] = html.xpath('.//div[@class=\"comm-basic-mod  \"]/div[2]/dl/dd[5]/text()|.//div[@class=\"comm-basic-mod has-pano-box \"]/div[2]/dl/dd[5]/text()')\n",
    "    dict_result['总建面积'] = html.xpath('.//div[@class=\"comm-basic-mod  \"]/div[2]/dl/dd[6]/text()|.//div[@class=\"comm-basic-mod has-pano-box \"]/div[2]/dl/dd[6]/text()')\n",
    "    dict_result['容积率'] = html.xpath('.//div[@class=\"comm-basic-mod  \"]/div[2]/dl/dd[7]/text()|.//div[@class=\"comm-basic-mod has-pano-box \"]/div[2]/dl/dd[7]/text()')\n",
    "    dict_result['绿化率'] = html.xpath('.//div[@class=\"comm-basic-mod  \"]/div[2]/dl/dd[8]/text()|.//div[@class=\"comm-basic-mod has-pano-box \"]/div[2]/dl/dd[8]/text()')\n",
    "    dict_result['建筑类型'] = html.xpath('.//div[@class=\"comm-basic-mod  \"]/div[2]/dl/dd[9]/text()|.//div[@class=\"comm-basic-mod has-pano-box \"]/div[2]/dl/dd[9]/text()')\n",
    "    dict_result['所属商圈'] = html.xpath('.//div[@class=\"comm-basic-mod  \"]/div[2]/dl/dd[10]/text()|.//div[@class=\"comm-basic-mod has-pano-box \"]/div[2]/dl/dd[10]/text()')\n",
    "    dict_result['统一供暖'] = html.xpath('.//div[@class=\"comm-basic-mod  \"]/div[2]/dl/dd[11]/text()|.//div[@class=\"comm-basic-mod has-pano-box \"]/div[2]/dl/dd[11]/text()')\n",
    "    dict_result['供水供电'] = html.xpath('.//div[@class=\"comm-basic-mod  \"]/div[2]/dl/dd[12]/text()|.//div[@class=\"comm-basic-mod has-pano-box \"]/div[2]/dl/dd[12]/text()')\n",
    "    dict_result['停车位'] = html.xpath('.//div[@class=\"comm-basic-mod  \"]/div[2]/dl/dd[13]/text()|.//div[@class=\"comm-basic-mod has-pano-box \"]/div[2]/dl/dd[13]/text()')\n",
    "    dict_result['物业费'] = html.xpath('.//div[@class=\"comm-basic-mod  \"]/div[2]/dl/dd[14]/text()|.//div[@class=\"comm-basic-mod has-pano-box \"]/div[2]/dl/dd[14]/text()')\n",
    "    dict_result['停车费'] = html.xpath('.//div[@class=\"comm-basic-mod  \"]/div[2]/dl/dd[15]/text()|.//div[@class=\"comm-basic-mod has-pano-box \"]/div[2]/dl/dd[15]/text()')\n",
    "    dict_result['车位管理费'] = html.xpath('.//div[@class=\"comm-basic-mod  \"]/div[2]/dl/dd[16]/text()|.//div[@class=\"comm-basic-mod has-pano-box \"]/div[2]/dl/dd[16]/text()')\n",
    "    dict_result['物业公司'] = html.xpath('.//div[@class=\"comm-basic-mod  \"]/div[2]/dl/dd[17]/text()|.//div[@class=\"comm-basic-mod has-pano-box \"]/div[2]/dl/dd[17]/text()')\n",
    "    dict_result['开发商'] = html.xpath('.//div[@class=\"comm-basic-mod  \"]/div[2]/dl/dd[18]/text()|.//div[@class=\"comm-basic-mod has-pano-box \"]/div[2]/dl/dd[18]/text()')\n",
    "\n",
    "    \n",
    "    for key,value in dict_result.items():\n",
    "        value = list(map(lambda item: re.sub('\\s+', '', item), value))  \n",
    "        dict_result[key] = list(filter(None, value)) \n",
    "        if len(dict_result[key]) == 0:\n",
    "            dict_result[key] = ''\n",
    "        else:\n",
    "            dict_result[key] = dict_result[key][0]\n",
    "    dict_result['价格'] = price\n",
    "    return dict_result"
   ]
  },
  {
   "cell_type": "markdown",
   "metadata": {},
   "source": [
    "## Read data into a csv file"
   ]
  },
  {
   "cell_type": "code",
   "execution_count": 12,
   "metadata": {},
   "outputs": [],
   "source": [
    "def save_csv(result):\n",
    "    for row in result:\n",
    "        csv_write.writerow(row)"
   ]
  },
  {
   "cell_type": "markdown",
   "metadata": {},
   "source": [
    "## Main code"
   ]
  },
  {
   "cell_type": "code",
   "execution_count": null,
   "metadata": {},
   "outputs": [],
   "source": [
    "C = 1\n",
    "k = 1 # number of listings\n",
    " \n",
    "# Multi-page crawl\n",
    "for i in range(1,51): \n",
    "    print(\"************************\" + \"第%s页开始爬取\" % i + \"************************\")\n",
    "    url = 'https://sjz.anjuke.com/community/p{}'.format(i)\n",
    "    \n",
    "    \n",
    "    link = get_link(url)\n",
    "    list_result = [] \n",
    "    \n",
    "    for j in link:\n",
    "        try:\n",
    "            result = parse_message(j[0], j[1])\n",
    "            list_result.append(result) \n",
    "            print(\"已爬取{}条数据\".format(k))\n",
    "            k = k + 1 \n",
    "            time.sleep(round(random.randint(1,3), C)) \n",
    "        except Exception as err:\n",
    "            print(\"-----------------------------\")\n",
    "            print(err)\n",
    "            \n",
    "    # Save data\n",
    "    save_csv(list_result)\n",
    "    time.sleep(random.randint(1,3)) \n",
    "    \n",
    "    print(\"************************\" + \"第%s页爬取成功\" % i + \"************************\")"
   ]
  },
  {
   "cell_type": "code",
   "execution_count": null,
   "metadata": {},
   "outputs": [],
   "source": []
  }
 ],
 "metadata": {
  "kernelspec": {
   "display_name": "base",
   "language": "python",
   "name": "python3"
  },
  "language_info": {
   "codemirror_mode": {
    "name": "ipython",
    "version": 3
   },
   "file_extension": ".py",
   "mimetype": "text/x-python",
   "name": "python",
   "nbconvert_exporter": "python",
   "pygments_lexer": "ipython3",
   "version": "3.11.5"
  }
 },
 "nbformat": 4,
 "nbformat_minor": 2
}
